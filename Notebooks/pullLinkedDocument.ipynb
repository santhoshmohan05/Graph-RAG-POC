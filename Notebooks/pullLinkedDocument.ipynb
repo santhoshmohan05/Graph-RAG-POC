{
 "cells": [
  {
   "cell_type": "code",
   "execution_count": 8,
   "metadata": {},
   "outputs": [],
   "source": [
    "# importing all the required modules\n",
    "import pypdf\n",
    "import os\n",
    "import networkx as nx\n",
    "from urllib.parse import urlparse\n",
    "from uuid import uuid4\n",
    "from base64 import b64encode\n",
    "import requests\n",
    "from collections import deque\n",
    "from selenium import webdriver\n",
    "# creating a pdf reader object"
   ]
  },
  {
   "cell_type": "code",
   "execution_count": 4,
   "metadata": {},
   "outputs": [],
   "source": [
    "def extract_document_links(file_path):\n",
    "    reader = pypdf.PdfReader(file_path)\n",
    "    all_links:list[str] = []\n",
    "    pdf_links = set()\n",
    "    for page in reader.pages:\n",
    "        if \"/Annots\" in page:\n",
    "            for annot in page[\"/Annots\"]:\n",
    "                annot_obj = annot.get_object()\n",
    "                if \"/A\" in annot_obj and \"/URI\" in annot_obj[\"/A\"]:\n",
    "                    all_links.append(annot_obj[\"/A\"][\"/URI\"])\n",
    "                break\n",
    "    for link in all_links:\n",
    "        if link.lower().endswith(\".pdf\"):\n",
    "            pdf_links.add(link)\n",
    "    return pdf_links"
   ]
  },
  {
   "cell_type": "code",
   "execution_count": 5,
   "metadata": {},
   "outputs": [],
   "source": [
    "def download_document(pdf_link, save_folder = \"\"):\n",
    "    if not os.path.exists(save_folder):\n",
    "        os.makedirs(save_folder)\n",
    "    parsed_url = urlparse(pdf_link)\n",
    "    document_name = os.path.basename(parsed_url.path) or f\"{b64encode(uuid4())}.pdf\"\n",
    "    filename = os.path.join(save_folder,  document_name)\n",
    "    try:\n",
    "        response = requests.get(pdf_link, timeout=10)\n",
    "        if response.status_code == 200:\n",
    "            with open(filename, \"wb\") as f:\n",
    "                f.write(response.content)\n",
    "            print(f\"Downloaded: {filename}\")\n",
    "            return filename\n",
    "        elif response.status_code in [401, 403]:\n",
    "            print(f\"Protected document detected: {pdf_link}\")\n",
    "\n",
    "            ## Code to Handle Authorization error\n",
    "            return None\n",
    "        else:\n",
    "            print(f\"Failed to fetch {pdf_link} (Status: {response.status_code})\")\n",
    "            return None\n",
    "    except requests.RequestException as e:\n",
    "        print(f\"Error downloading {pdf_link}: {e}\")\n",
    "        return None"
   ]
  },
  {
   "cell_type": "code",
   "execution_count": 9,
   "metadata": {},
   "outputs": [],
   "source": [
    "from selenium import webdriver\n",
    "\n",
    "options = webdriver.ChromeOptions()\n",
    "options.add_argument(\"--headless\")  # Run in background\n",
    "driver = webdriver.Chrome(options=options)\n",
    "\n",
    "driver.get(\"https://www.sap.com/dmc/benchmark/2020/Cert20021.pdf\")\n",
    "\n",
    "# Save the page source (useful for debugging)\n",
    "with open(\"document.pdf\", \"wb\") as f:\n",
    "    f.write(driver.page_source.encode(\"utf-8\"))\n",
    "\n",
    "driver.quit()"
   ]
  },
  {
   "cell_type": "code",
   "execution_count": 6,
   "metadata": {},
   "outputs": [],
   "source": [
    "def build_document_graph(pdf_path, document_folder, node_count):\n",
    "    graph = nx.DiGraph()\n",
    "    all_links = {}\n",
    "    queue = deque([pdf_path])\n",
    "    all_paths = set()\n",
    "    all_paths.add(pdf_path)\n",
    "    while len(queue) > 0:\n",
    "        document_path = queue.popleft()\n",
    "        pdf_links = extract_document_links(document_path)\n",
    "        for link in pdf_links:\n",
    "            if link not in all_links:\n",
    "                downloaded_path = download_document(link, document_folder)\n",
    "                all_links[link] = downloaded_path\n",
    "            else:\n",
    "                downloaded_path = all_links[link]\n",
    "            if downloaded_path is not None:\n",
    "                graph.add_edge(document_path, downloaded_path)\n",
    "                if downloaded_path not in all_paths and len(all_paths) < node_count:\n",
    "                    all_paths.add(downloaded_path)\n",
    "                    queue.append(downloaded_path)\n",
    "    return graph"
   ]
  },
  {
   "cell_type": "code",
   "execution_count": 7,
   "metadata": {},
   "outputs": [
    {
     "name": "stdout",
     "output_type": "stream",
     "text": [
      "Protected document detected: https://www.sap.com/dmc/benchmark/2021/Cert21058.pdf\n",
      "Failed to fetch https://pubs.vmware.com/vsphere-60/topic/com.vmware.ICbase/PDF/vsphere-esxi-vcenter-server-60-resource-management-guide.pdf (Status: 400)\n",
      "Protected document detected: https://www.sap.com/dmc/benchmark/2023/Cert23030.pdf\n",
      "Protected document detected: https://www.sap.com/dmc/benchmark/2020/Cert20021.pdf\n"
     ]
    }
   ],
   "source": [
    "document_graph = build_document_graph(pdf_path='./input-dir/sap-hana-on-vmware-vsphere-bp_0.pdf', document_folder=\"./pdfs/\", node_count=10)"
   ]
  },
  {
   "cell_type": "code",
   "execution_count": null,
   "metadata": {},
   "outputs": [],
   "source": []
  }
 ],
 "metadata": {
  "kernelspec": {
   "display_name": "venv",
   "language": "python",
   "name": "python3"
  },
  "language_info": {
   "codemirror_mode": {
    "name": "ipython",
    "version": 3
   },
   "file_extension": ".py",
   "mimetype": "text/x-python",
   "name": "python",
   "nbconvert_exporter": "python",
   "pygments_lexer": "ipython3",
   "version": "3.11.9"
  }
 },
 "nbformat": 4,
 "nbformat_minor": 2
}
