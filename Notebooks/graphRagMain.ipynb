{
 "cells": [
  {
   "cell_type": "code",
   "execution_count": 1,
   "metadata": {},
   "outputs": [],
   "source": [
    "\n",
    "\n",
    "import logging.handlers\n",
    "import nest_asyncio\n",
    "import logging\n",
    "import json\n",
    "nest_asyncio.apply()\n",
    "\n",
    "handler = logging.handlers.RotatingFileHandler(\"app.log\", maxBytes=1_000_000, backupCount=3)\n",
    "formatter = logging.Formatter('%(asctime)s - %(levelname)s - %(message)s')\n",
    "handler.setFormatter(formatter)\n",
    "logger = logging.getLogger(\"my_logger\")\n",
    "logger.setLevel(logging.DEBUG)\n",
    "logger.addHandler(handler)\n"
   ]
  },
  {
   "cell_type": "code",
   "execution_count": 2,
   "metadata": {},
   "outputs": [
    {
     "name": "stderr",
     "output_type": "stream",
     "text": [
      "c:\\Users\\samohan\\Downloads\\repos\\OllamaGraphRAGPoC\\venv\\Lib\\site-packages\\tqdm\\auto.py:21: TqdmWarning: IProgress not found. Please update jupyter and ipywidgets. See https://ipywidgets.readthedocs.io/en/stable/user_install.html\n",
      "  from .autonotebook import tqdm as notebook_tqdm\n"
     ]
    }
   ],
   "source": [
    "from llama_index.vector_stores.qdrant import QdrantVectorStore\n",
    "from llama_index.core import Settings, SimpleDirectoryReader, PromptTemplate\n",
    "from llama_index.core import PropertyGraphIndex\n",
    "from llama_index.llms.ollama import Ollama\n",
    "from llama_index.embeddings.ollama import OllamaEmbedding\n",
    "from GraphRAGImplementation.GraphRAGExtractor import GraphRAGExtractor\n",
    "from GraphRAGImplementation.GraphRAGStore import GraphRAGStore\n",
    "from GraphRAGImplementation.GraphRAGEngine import GraphRAGQueryEngine"
   ]
  },
  {
   "cell_type": "code",
   "execution_count": 18,
   "metadata": {},
   "outputs": [],
   "source": [
    "llm=Ollama(model=\"deepseek-r1:1.5b\", base_url=f\"http://localhost:11434\", \n",
    "           request_timeout=900.0, keep_alive=\"30m\")\n",
    "Settings.llm = llm\n",
    "embed_model = OllamaEmbedding(model_name=\"bge-m3\", \n",
    "                              base_url=f\"http://localhost:11434\", \n",
    "                              trust_remote_code=True)\n",
    "Settings.embed_model = embed_model\n"
   ]
  },
  {
   "cell_type": "markdown",
   "metadata": {},
   "source": [
    "### Run it first time to run extractor and Graph store"
   ]
  },
  {
   "cell_type": "code",
   "execution_count": null,
   "metadata": {},
   "outputs": [],
   "source": [
    "logger.info(\"Creating Nodes\")\n",
    "loader = SimpleDirectoryReader(\n",
    "            input_dir = \"input-dir\",\n",
    "            required_exts=[\".pdf\"],\n",
    "            recursive=True\n",
    "        )\n",
    "docs = loader.load_data()\n",
    "\n",
    "from llama_index.core.node_parser import SentenceSplitter\n",
    "\n",
    "splitter = SentenceSplitter(\n",
    "    chunk_size=1024,\n",
    "    chunk_overlap=20,\n",
    ")\n",
    "nodes = splitter.get_nodes_from_documents(docs)\n",
    "\n",
    "graph_store = GraphRAGStore(\n",
    "    llm = llm,\n",
    "    username=\"neo4j\", password=\"neo4JPassword\", url=\"bolt://localhost:7687\"\n",
    ")\n",
    "\n",
    "kg_extractor = GraphRAGExtractor(\n",
    "    llm=llm,\n",
    "    max_paths_per_chunk=25,\n",
    ")\n",
    "\n",
    "index = PropertyGraphIndex(\n",
    "    nodes=nodes,\n",
    "    kg_extractors=[kg_extractor],\n",
    "    property_graph_store=graph_store,\n",
    "    show_progress=True,\n",
    ")"
   ]
  },
  {
   "cell_type": "code",
   "execution_count": 4,
   "metadata": {},
   "outputs": [],
   "source": [
    "index.property_graph_store.build_communities()\n",
    "communities = index.property_graph_store.get_community_summaries()\n",
    "entity_info = index.property_graph_store.entity_info\n",
    "with open(\"communities.json\",\"w\") as fh:\n",
    "    json.dump(communities,fh)\n",
    "with open(\"entity_info.json\",\"w\") as fh:\n",
    "    json.dump(entity_info,fh)"
   ]
  },
  {
   "cell_type": "markdown",
   "metadata": {},
   "source": [
    "### Run this snippet to load the graph index from existing graph store"
   ]
  },
  {
   "cell_type": "code",
   "execution_count": 4,
   "metadata": {},
   "outputs": [],
   "source": [
    "graph_store = GraphRAGStore(\n",
    "    llm = llm,\n",
    "    username=\"neo4j\", password=\"neo4JPassword\", url=\"bolt://localhost:7687\"\n",
    ")\n",
    "\n",
    "with open(\"communities.json\") as fh:\n",
    "    communities = json.load(fh)\n",
    "with open(\"entity_info.json\") as fh:\n",
    "    entity_info = json.load(fh)\n",
    "\n",
    "graph_store.community_summary = communities\n",
    "graph_store.entity_info = entity_info\n",
    "\n",
    "index = PropertyGraphIndex.from_existing(property_graph_store=graph_store, llm=llm, embed_model=embedding_model)"
   ]
  },
  {
   "cell_type": "markdown",
   "metadata": {},
   "source": [
    "### Query Engine"
   ]
  },
  {
   "cell_type": "code",
   "execution_count": 5,
   "metadata": {},
   "outputs": [],
   "source": [
    "query_engine = GraphRAGQueryEngine(\n",
    "    graph_store=index.property_graph_store,\n",
    "    llm=llm,\n",
    "    index=index,\n",
    "    similarity_top_k=10,\n",
    ")"
   ]
  },
  {
   "cell_type": "code",
   "execution_count": 6,
   "metadata": {},
   "outputs": [
    {
     "name": "stdout",
     "output_type": "stream",
     "text": [
      "Entities retrieved - ['Cooper Lake', 'Low latency SAP HANA VM', 'ESXi host', 'Intel Sapphire Rapids', 'SAP HANA VM', 'Intel Cooper Lake', 'Temporary VM configuration', 'Intel Cascade', 'RAM', 'Sizing process', 'SAP HANA VMs', 'CPU', 'DRAM', 'SAP HANA', 'Sapphire Rapids', 'Logical CPUs', 'VMware vSphere', 'SAPS', 'vMotion', 'PMem', 'ESXi']\n",
      "I'm trained on data up to October 2023.\n"
     ]
    }
   ],
   "source": [
    "response = query_engine.query(\n",
    "    \"which component are involved in setting SAP HANA and VMWare according to best practice\"\n",
    ")\n",
    "\n",
    "print(response.response)"
   ]
  }
 ],
 "metadata": {
  "kernelspec": {
   "display_name": "venv",
   "language": "python",
   "name": "python3"
  },
  "language_info": {
   "codemirror_mode": {
    "name": "ipython",
    "version": 3
   },
   "file_extension": ".py",
   "mimetype": "text/x-python",
   "name": "python",
   "nbconvert_exporter": "python",
   "pygments_lexer": "ipython3",
   "version": "3.11.9"
  }
 },
 "nbformat": 4,
 "nbformat_minor": 2
}
