{
 "cells": [
  {
   "cell_type": "code",
   "execution_count": 1,
   "metadata": {},
   "outputs": [],
   "source": [
    "import pytesseract\n",
    "from PIL import Image\n",
    "import cv2\n",
    "import pypdf\n",
    "import os\n",
    "pytesseract.pytesseract.tesseract_cmd = r\"C:\\\\Program Files\\\\Tesseract-OCR\\\\tesseract.exe\"\n",
    "\n",
    "def ocr_image(image_path):\n",
    "    image = cv2.imread(image_path)\n",
    "    gray = cv2.cvtColor(image, cv2.COLOR_BGR2GRAY)\n",
    "    gray = cv2.threshold(gray, 0, 255, cv2.THRESH_BINARY | cv2.THRESH_OTSU)[1]\n",
    "    pil_image = Image.fromarray(gray)\n",
    "    extracted_text = pytesseract.image_to_string(pil_image)\n",
    "    return extracted_text"
   ]
  },
  {
   "cell_type": "code",
   "execution_count": 2,
   "metadata": {},
   "outputs": [],
   "source": [
    "def extract_images(file_path, base_folder='.'):\n",
    "    reader = pypdf.PdfReader(file_path)\n",
    "    output_folder = os.path.join(base_folder, os.path.basename(file_path))\n",
    "    os.makedirs(output_folder, exist_ok=True)\n",
    "    image_count = 0\n",
    "    for page_num, page in enumerate(reader.pages):\n",
    "        for image in page.images:\n",
    "            with open(os.path.join(output_folder,image.name), \"wb\") as fp:\n",
    "                fp.write(image.data)"
   ]
  },
  {
   "cell_type": "code",
   "execution_count": 3,
   "metadata": {},
   "outputs": [
    {
     "name": "stdout",
     "output_type": "stream",
     "text": [
      "— 5S OMainicnance Window —\n",
      "\n",
      "If necessary\n",
      "\n",
      "Place new HW add new HW vMotion VMs to align VI M contig Remove old Tier-down or\n",
      "in datacenter ySphe new server new vse er recycle old HW\n",
      "config\"\n",
      "\n",
      "\n"
     ]
    }
   ],
   "source": [
    "extract_images('./input-dir/sap-hana-on-vmware-vsphere-bp_0.pdf')\n",
    "image_text = ocr_image(\"./sap-hana-on-vmware-vsphere-bp_0.pdf/im46.png\")\n",
    "print(image_text)"
   ]
  }
 ],
 "metadata": {
  "kernelspec": {
   "display_name": "venv",
   "language": "python",
   "name": "python3"
  },
  "language_info": {
   "codemirror_mode": {
    "name": "ipython",
    "version": 3
   },
   "file_extension": ".py",
   "mimetype": "text/x-python",
   "name": "python",
   "nbconvert_exporter": "python",
   "pygments_lexer": "ipython3",
   "version": "3.11.9"
  }
 },
 "nbformat": 4,
 "nbformat_minor": 2
}
